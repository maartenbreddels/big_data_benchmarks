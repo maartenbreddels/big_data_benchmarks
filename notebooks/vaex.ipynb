{
 "cells": [
  {
   "cell_type": "markdown",
   "metadata": {},
   "source": [
    "# Get data and packages"
   ]
  },
  {
   "cell_type": "code",
   "execution_count": 1,
   "metadata": {
    "ExecuteTime": {
     "end_time": "2020-01-23T19:05:59.242333Z",
     "start_time": "2020-01-23T19:05:59.240316Z"
    }
   },
   "outputs": [],
   "source": [
    "# %%capture\n",
    "# !pip install vaex-core vaex-hdf5\n",
    "# !pip install -U numpy"
   ]
  },
  {
   "cell_type": "code",
   "execution_count": 2,
   "metadata": {
    "ExecuteTime": {
     "end_time": "2020-01-23T19:05:59.245740Z",
     "start_time": "2020-01-23T19:05:59.244178Z"
    }
   },
   "outputs": [],
   "source": [
    "# !aws s3 cp s3://xdss-public-datasets/demos/taxi_1B.hdf5 ../datasets/taxi_1B.hdf5"
   ]
  },
  {
   "cell_type": "markdown",
   "metadata": {},
   "source": [
    "## Prep benchmarks"
   ]
  },
  {
   "cell_type": "code",
   "execution_count": null,
   "metadata": {},
   "outputs": [],
   "source": []
  },
  {
   "cell_type": "code",
   "execution_count": 3,
   "metadata": {
    "ExecuteTime": {
     "end_time": "2020-01-23T19:06:00.375934Z",
     "start_time": "2020-01-23T19:05:59.249138Z"
    }
   },
   "outputs": [
    {
     "name": "stdout",
     "output_type": "stream",
     "text": [
      "test for 1 repetitions\n"
     ]
    }
   ],
   "source": [
    "import gc\n",
    "from src.benchmarks_utils import benchmark, get_results\n",
    "from src.vaex_utils import *\n",
    "from src.config import repetitions\n",
    "\n",
    "name = 'vaex'\n",
    "# data_path = '../datasets/taxi_1B.hdf5'\n",
    "data_path = '/data/yellow_taxi_2009_2015_f32.hdf5'\n",
    "results_path = f\"../results/{name}_1b.csv\"\n",
    "benchmarks = {}\n",
    "print(f\"test for {repetitions} repetitions\")"
   ]
  },
  {
   "cell_type": "markdown",
   "metadata": {},
   "source": [
    "# Benchmark"
   ]
  },
  {
   "cell_type": "code",
   "execution_count": 4,
   "metadata": {
    "ExecuteTime": {
     "end_time": "2020-01-23T19:06:00.395434Z",
     "start_time": "2020-01-23T19:06:00.377304Z"
    }
   },
   "outputs": [
    {
     "name": "stdout",
     "output_type": "stream",
     "text": [
      "size: 1173057927 with 19 columns\n"
     ]
    }
   ],
   "source": [
    "# Load data\n",
    "data = read_file(data_path=data_path)\n",
    "data['pickup_hour'] = data.pickup_datetime.dt.hour\n",
    "print(f\"size: {data.shape[0]} with {data.shape[1]} columns\")"
   ]
  },
  {
   "cell_type": "code",
   "execution_count": 5,
   "metadata": {
    "ExecuteTime": {
     "end_time": "2020-01-23T19:06:00.442213Z",
     "start_time": "2020-01-23T19:06:00.396829Z"
    }
   },
   "outputs": [
    {
     "data": {
      "text/html": [
       "<table>\n",
       "<thead>\n",
       "<tr><th>#                                        </th><th>vendor_id  </th><th>pickup_datetime              </th><th>dropoff_datetime             </th><th>passenger_count  </th><th>payment_type  </th><th>trip_distance     </th><th>pickup_longitude  </th><th>pickup_latitude   </th><th>rate_code  </th><th>store_and_fwd_flag  </th><th>dropoff_longitude  </th><th>dropoff_latitude  </th><th>fare_amount       </th><th>surcharge  </th><th>mta_tax  </th><th>tip_amount        </th><th>tolls_amount  </th><th>total_amount      </th><th>pickup_hour  </th></tr>\n",
       "</thead>\n",
       "<tbody>\n",
       "<tr><td><i style='opacity: 0.6'>0</i>            </td><td>VTS        </td><td>2009-01-04 02:52:00.000000000</td><td>2009-01-04 03:02:00.000000000</td><td>1                </td><td>CASH          </td><td>2.630000114440918 </td><td>-73.99195861816406</td><td>40.72156524658203 </td><td>nan        </td><td>nan                 </td><td>-73.99380493164062 </td><td>40.6959228515625  </td><td>8.899999618530273 </td><td>0.5        </td><td>nan      </td><td>0.0               </td><td>0.0           </td><td>9.399999618530273 </td><td>2            </td></tr>\n",
       "<tr><td><i style='opacity: 0.6'>1</i>            </td><td>VTS        </td><td>2009-01-04 03:31:00.000000000</td><td>2009-01-04 03:38:00.000000000</td><td>3                </td><td>Credit        </td><td>4.550000190734863 </td><td>-73.98210144042969</td><td>40.736289978027344</td><td>nan        </td><td>nan                 </td><td>-73.95584869384766 </td><td>40.768028259277344</td><td>12.100000381469727</td><td>0.5        </td><td>nan      </td><td>2.0               </td><td>0.0           </td><td>14.600000381469727</td><td>3            </td></tr>\n",
       "<tr><td><i style='opacity: 0.6'>2</i>            </td><td>VTS        </td><td>2009-01-03 15:43:00.000000000</td><td>2009-01-03 15:57:00.000000000</td><td>5                </td><td>Credit        </td><td>10.350000381469727</td><td>-74.0025863647461 </td><td>40.73974609375    </td><td>nan        </td><td>nan                 </td><td>-73.86997985839844 </td><td>40.770225524902344</td><td>23.700000762939453</td><td>0.0        </td><td>nan      </td><td>4.739999771118164 </td><td>0.0           </td><td>28.440000534057617</td><td>15           </td></tr>\n",
       "<tr><td><i style='opacity: 0.6'>3</i>            </td><td>DDS        </td><td>2009-01-01 20:52:58.000000000</td><td>2009-01-01 21:14:00.000000000</td><td>1                </td><td>CREDIT        </td><td>5.0               </td><td>-73.9742660522461 </td><td>40.79095458984375 </td><td>nan        </td><td>nan                 </td><td>-73.9965591430664  </td><td>40.731849670410156</td><td>14.899999618530273</td><td>0.5        </td><td>nan      </td><td>3.049999952316284 </td><td>0.0           </td><td>18.450000762939453</td><td>20           </td></tr>\n",
       "<tr><td><i style='opacity: 0.6'>4</i>            </td><td>DDS        </td><td>2009-01-24 16:18:23.000000000</td><td>2009-01-24 16:24:56.000000000</td><td>1                </td><td>CASH          </td><td>0.4000000059604645</td><td>-74.00157928466797</td><td>40.719383239746094</td><td>nan        </td><td>nan                 </td><td>-74.00837707519531 </td><td>40.7203483581543  </td><td>3.700000047683716 </td><td>0.0        </td><td>nan      </td><td>0.0               </td><td>0.0           </td><td>3.700000047683716 </td><td>16           </td></tr>\n",
       "<tr><td>...                                      </td><td>...        </td><td>...                          </td><td>...                          </td><td>...              </td><td>...           </td><td>...               </td><td>...               </td><td>...               </td><td>...        </td><td>...                 </td><td>...                </td><td>...               </td><td>...               </td><td>...        </td><td>...      </td><td>...               </td><td>...           </td><td>...               </td><td>...          </td></tr>\n",
       "<tr><td><i style='opacity: 0.6'>1,173,057,922</i></td><td>VTS        </td><td>2015-12-31 23:59:56.000000000</td><td>2016-01-01 00:08:18.000000000</td><td>5                </td><td>1             </td><td>1.2000000476837158</td><td>-73.99381256103516</td><td>40.72087097167969 </td><td>1.0        </td><td>0.0                 </td><td>-73.98621368408203 </td><td>40.722469329833984</td><td>7.5               </td><td>0.5        </td><td>0.5      </td><td>1.7599999904632568</td><td>0.0           </td><td>10.5600004196167  </td><td>23           </td></tr>\n",
       "<tr><td><i style='opacity: 0.6'>1,173,057,923</i></td><td>CMT        </td><td>2015-12-31 23:59:58.000000000</td><td>2016-01-01 00:05:19.000000000</td><td>2                </td><td>2             </td><td>2.0               </td><td>-73.96527099609375</td><td>40.76028060913086 </td><td>1.0        </td><td>0.0                 </td><td>-73.93951416015625 </td><td>40.75238800048828 </td><td>7.5               </td><td>0.5        </td><td>0.5      </td><td>0.0               </td><td>0.0           </td><td>8.800000190734863 </td><td>23           </td></tr>\n",
       "<tr><td><i style='opacity: 0.6'>1,173,057,924</i></td><td>CMT        </td><td>2015-12-31 23:59:59.000000000</td><td>2016-01-01 00:12:55.000000000</td><td>2                </td><td>2             </td><td>3.799999952316284 </td><td>-73.98729705810547</td><td>40.739078521728516</td><td>1.0        </td><td>0.0                 </td><td>-73.9886703491211  </td><td>40.69329833984375 </td><td>13.5              </td><td>0.5        </td><td>0.5      </td><td>0.0               </td><td>0.0           </td><td>14.800000190734863</td><td>23           </td></tr>\n",
       "<tr><td><i style='opacity: 0.6'>1,173,057,925</i></td><td>VTS        </td><td>2015-12-31 23:59:59.000000000</td><td>2016-01-01 00:10:26.000000000</td><td>1                </td><td>2             </td><td>1.9600000381469727</td><td>-73.99755859375   </td><td>40.72569274902344 </td><td>1.0        </td><td>0.0                 </td><td>-74.01712036132812 </td><td>40.705322265625   </td><td>8.5               </td><td>0.5        </td><td>0.5      </td><td>0.0               </td><td>0.0           </td><td>9.800000190734863 </td><td>23           </td></tr>\n",
       "<tr><td><i style='opacity: 0.6'>1,173,057,926</i></td><td>VTS        </td><td>2015-12-31 23:59:59.000000000</td><td>2016-01-01 00:21:30.000000000</td><td>1                </td><td>1             </td><td>1.059999942779541 </td><td>-73.9843978881836 </td><td>40.76725769042969 </td><td>1.0        </td><td>0.0                 </td><td>-73.99098205566406 </td><td>40.76057052612305 </td><td>13.5              </td><td>0.5        </td><td>0.5      </td><td>2.9600000381469727</td><td>0.0           </td><td>17.760000228881836</td><td>23           </td></tr>\n",
       "</tbody>\n",
       "</table>"
      ],
      "text/plain": [
       "#              vendor_id    pickup_datetime                dropoff_datetime               passenger_count    payment_type    trip_distance       pickup_longitude    pickup_latitude     rate_code    store_and_fwd_flag    dropoff_longitude    dropoff_latitude    fare_amount         surcharge    mta_tax    tip_amount          tolls_amount    total_amount        pickup_hour\n",
       "0              VTS          2009-01-04 02:52:00.000000000  2009-01-04 03:02:00.000000000  1                  CASH            2.630000114440918   -73.99195861816406  40.72156524658203   nan          nan                   -73.99380493164062   40.6959228515625    8.899999618530273   0.5          nan        0.0                 0.0             9.399999618530273   2\n",
       "1              VTS          2009-01-04 03:31:00.000000000  2009-01-04 03:38:00.000000000  3                  Credit          4.550000190734863   -73.98210144042969  40.736289978027344  nan          nan                   -73.95584869384766   40.768028259277344  12.100000381469727  0.5          nan        2.0                 0.0             14.600000381469727  3\n",
       "2              VTS          2009-01-03 15:43:00.000000000  2009-01-03 15:57:00.000000000  5                  Credit          10.350000381469727  -74.0025863647461   40.73974609375      nan          nan                   -73.86997985839844   40.770225524902344  23.700000762939453  0.0          nan        4.739999771118164   0.0             28.440000534057617  15\n",
       "3              DDS          2009-01-01 20:52:58.000000000  2009-01-01 21:14:00.000000000  1                  CREDIT          5.0                 -73.9742660522461   40.79095458984375   nan          nan                   -73.9965591430664    40.731849670410156  14.899999618530273  0.5          nan        3.049999952316284   0.0             18.450000762939453  20\n",
       "4              DDS          2009-01-24 16:18:23.000000000  2009-01-24 16:24:56.000000000  1                  CASH            0.4000000059604645  -74.00157928466797  40.719383239746094  nan          nan                   -74.00837707519531   40.7203483581543    3.700000047683716   0.0          nan        0.0                 0.0             3.700000047683716   16\n",
       "...            ...          ...                            ...                            ...                ...             ...                 ...                 ...                 ...          ...                   ...                  ...                 ...                 ...          ...        ...                 ...             ...                 ...\n",
       "1,173,057,922  VTS          2015-12-31 23:59:56.000000000  2016-01-01 00:08:18.000000000  5                  1               1.2000000476837158  -73.99381256103516  40.72087097167969   1.0          0.0                   -73.98621368408203   40.722469329833984  7.5                 0.5          0.5        1.7599999904632568  0.0             10.5600004196167    23\n",
       "1,173,057,923  CMT          2015-12-31 23:59:58.000000000  2016-01-01 00:05:19.000000000  2                  2               2.0                 -73.96527099609375  40.76028060913086   1.0          0.0                   -73.93951416015625   40.75238800048828   7.5                 0.5          0.5        0.0                 0.0             8.800000190734863   23\n",
       "1,173,057,924  CMT          2015-12-31 23:59:59.000000000  2016-01-01 00:12:55.000000000  2                  2               3.799999952316284   -73.98729705810547  40.739078521728516  1.0          0.0                   -73.9886703491211    40.69329833984375   13.5                0.5          0.5        0.0                 0.0             14.800000190734863  23\n",
       "1,173,057,925  VTS          2015-12-31 23:59:59.000000000  2016-01-01 00:10:26.000000000  1                  2               1.9600000381469727  -73.99755859375     40.72569274902344   1.0          0.0                   -74.01712036132812   40.705322265625     8.5                 0.5          0.5        0.0                 0.0             9.800000190734863   23\n",
       "1,173,057,926  VTS          2015-12-31 23:59:59.000000000  2016-01-01 00:21:30.000000000  1                  1               1.059999942779541   -73.9843978881836   40.76725769042969   1.0          0.0                   -73.99098205566406   40.76057052612305   13.5                0.5          0.5        2.9600000381469727  0.0             17.760000228881836  23"
      ]
     },
     "execution_count": 5,
     "metadata": {},
     "output_type": "execute_result"
    }
   ],
   "source": [
    "data"
   ]
  },
  {
   "cell_type": "code",
   "execution_count": 7,
   "metadata": {
    "ExecuteTime": {
     "end_time": "2020-01-23T19:10:11.211538Z",
     "start_time": "2020-01-23T19:08:23.153301Z"
    }
   },
   "outputs": [
    {
     "name": "stdout",
     "output_type": "stream",
     "text": [
      "Prepare filtered data and deleted 20 MB\n",
      "Done benchmarks on filterd data\n"
     ]
    }
   ],
   "source": [
    "# benchmarks['read_file']= benchmark(read_file, df=data, data_path=data_path, repetitions=repetitions)\n",
    "# benchmarks['length'] = benchmark(length, data, repetitions=repetitions)\n",
    "# benchmarks['mean']= benchmark(mean, data, repetitions=repetitions)\n",
    "# benchmarks['standard deviation']= benchmark(standard_deviation, data, repetitions=repetitions)\n",
    "# benchmarks['mean of sum']= benchmark(mean_of_sum, data, repetitions=repetitions)\n",
    "# benchmarks['mean of columns']= benchmark(mean_of_product, data, repetitions=repetitions)\n",
    "# benchmarks['mean of complicated arithmetic operation']= benchmark(mean_of_complicated_arithmetic_operation, data, repetitions=repetitions)\n",
    "# benchmarks['value counts']= benchmark(value_counts, data, repetitions=repetitions)\n",
    "# benchmarks['groupby statistics']= benchmark(groupby_statistics, data, repetitions=repetitions)\n",
    "# # benchmarks['filter']= benchmark(filter_data, data, repetitions=repetitions)\n",
    "# print(f\"cleaned {gc.collect()} mb\")\n",
    "# benchmarks['join'] = benchmark(join, data, repetitions=repetitions, other=groupby_statistics(data))\n",
    "# print(f\"Done benchmarks on all data\")\n",
    "\n",
    "# filtered\n",
    "filterd = filter_data(data)\n",
    "del data\n",
    "\n",
    "print(f\"Prepare filtered data and deleted {gc.collect()} MB\")\n",
    "benchmarks['filtered length'] = benchmark(length, filterd, repetitions=repetitions)\n",
    "benchmarks['filtered mean'] = benchmark(mean, filterd, repetitions=repetitions)\n",
    "benchmarks['filtered standard deviation'] = benchmark(standard_deviation, filterd, repetitions=repetitions)\n",
    "benchmarks['filtered mean of sum'] = benchmark(mean_of_sum , filterd, repetitions=repetitions)\n",
    "benchmarks['filtered mean of product'] = benchmark(mean_of_product , filterd, repetitions=repetitions)\n",
    "benchmarks['filtered complicated arithmetic operation'] = benchmark(mean_of_complicated_arithmetic_operation, filterd, repetitions=repetitions)\n",
    "benchmarks['filtered value counts'] = benchmark(value_counts, filterd, repetitions=repetitions)\n",
    "benchmarks['filtered groupby statistics'] = benchmark(groupby_statistics, filterd, repetitions=repetitions)\n",
    "benchmarks['filtered join'] = benchmark(join, filterd, repetitions=repetitions, other=groupby_statistics(filterd))\n",
    "print(f\"Done benchmarks on filterd data\")\n"
   ]
  },
  {
   "cell_type": "code",
   "execution_count": null,
   "metadata": {
    "ExecuteTime": {
     "end_time": "2020-01-23T19:07:06.663171Z",
     "start_time": "2020-01-23T19:05:57.572Z"
    }
   },
   "outputs": [],
   "source": [
    "results = get_results(benchmarks, name)\n",
    "results.to_csv(results_path)\n",
    "results#.head()"
   ]
  },
  {
   "cell_type": "code",
   "execution_count": null,
   "metadata": {
    "ExecuteTime": {
     "end_time": "2020-01-23T19:07:06.664117Z",
     "start_time": "2020-01-23T19:05:57.574Z"
    }
   },
   "outputs": [],
   "source": [
    "total = results[name].sum()\n",
    "print(f'{int(total / 60)} min {total % 60:.1f} seconds')"
   ]
  },
  {
   "cell_type": "code",
   "execution_count": null,
   "metadata": {
    "ExecuteTime": {
     "end_time": "2020-01-23T19:07:06.664913Z",
     "start_time": "2020-01-23T19:05:57.575Z"
    }
   },
   "outputs": [],
   "source": [
    "res"
   ]
  },
  {
   "cell_type": "code",
   "execution_count": null,
   "metadata": {
    "ExecuteTime": {
     "end_time": "2020-01-23T19:07:06.665692Z",
     "start_time": "2020-01-23T19:05:57.576Z"
    }
   },
   "outputs": [],
   "source": [
    "!aws s3 cp  ../results/vaex_1b.csv s3://vaex-sagemaker-demo/benchmarks/vaex_1b_results.csv "
   ]
  },
  {
   "cell_type": "code",
   "execution_count": null,
   "metadata": {},
   "outputs": [],
   "source": []
  }
 ],
 "metadata": {
  "kernelspec": {
   "display_name": "Python 3",
   "language": "python",
   "name": "python3"
  },
  "language_info": {
   "codemirror_mode": {
    "name": "ipython",
    "version": 3
   },
   "file_extension": ".py",
   "mimetype": "text/x-python",
   "name": "python",
   "nbconvert_exporter": "python",
   "pygments_lexer": "ipython3",
   "version": "3.7.3"
  }
 },
 "nbformat": 4,
 "nbformat_minor": 4
}
