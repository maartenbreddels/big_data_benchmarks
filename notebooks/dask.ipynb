{
 "cells": [
  {
   "cell_type": "markdown",
   "metadata": {},
   "source": [
    "# Get data and packages"
   ]
  },
  {
   "cell_type": "code",
   "execution_count": 1,
   "metadata": {
    "ExecuteTime": {
     "end_time": "2020-01-23T15:09:08.297384Z",
     "start_time": "2020-01-23T15:09:08.294237Z"
    },
    "code_folding": [
     0
    ]
   },
   "outputs": [],
   "source": [
    "%%capture\n",
    "!pip install -U pip dask numpy fsspec>=0.3.3 tqdm pyarrow\n",
    "!pip install pyarrow==0.15"
   ]
  },
  {
   "cell_type": "code",
   "execution_count": 2,
   "metadata": {
    "ExecuteTime": {
     "end_time": "2020-01-23T18:43:00.952976Z",
     "start_time": "2020-01-23T18:43:00.950954Z"
    }
   },
   "outputs": [],
   "source": [
    "#!aws s3 cp --recursive s3://xdss-public-datasets/demos/taxi_parquet ../datasets/taxi_parquet"
   ]
  },
  {
   "cell_type": "code",
   "execution_count": 1,
   "metadata": {
    "ExecuteTime": {
     "end_time": "2020-01-23T18:48:40.295921Z",
     "start_time": "2020-01-23T18:48:39.765041Z"
    }
   },
   "outputs": [
    {
     "name": "stdout",
     "output_type": "stream",
     "text": [
      "test for 1 repetitions\n"
     ]
    }
   ],
   "source": [
    "import gc\n",
    "from src.benchmarks_utils import benchmark, get_results\n",
    "from src.dask_utils import *\n",
    "from src.config import repetitions\n",
    "\n",
    "use_parquet = False\n",
    "name = 'dask-parquet' if use_parquet else 'dask-vaex-hdf5'\n",
    "data_path = '/data/taxi_parquet/' if use_parquet else '/data/yellow_taxi_2009_2015_f32.hdf5'\n",
    "results_path = f\"../results/{name}_1b.csv\"\n",
    "benchmarks = {}\n",
    "print(f\"test for {repetitions} repetitions\")"
   ]
  },
  {
   "cell_type": "markdown",
   "metadata": {},
   "source": [
    "# Benchmark"
   ]
  },
  {
   "cell_type": "code",
   "execution_count": 2,
   "metadata": {
    "ExecuteTime": {
     "end_time": "2020-01-23T18:48:41.026110Z",
     "start_time": "2020-01-23T18:48:40.297338Z"
    }
   },
   "outputs": [],
   "source": [
    "# Load data\n",
    "def read_file(df, data_path):\n",
    "    if use_parquet:\n",
    "        data = read_file_parquet(None, data_path)\n",
    "        # we don't need to add those right?\n",
    "        # data.pickup_datetime = dd.to_datetime(data.pickup_datetime)\n",
    "        # data['pickup_hour'] = data.pickup_datetime.dt.hour\n",
    "        # data = data.set_index('passenger_count')\n",
    "    else:\n",
    "        column_names = ['fare_amount', 'tip_amount', 'trip_distance', 'pickup_longitude', 'pickup_latitude', 'dropoff_longitude', 'dropoff_latitude']\n",
    "        data = read_file_vaex(None, data_path, chunksize=10_000_000, column_names=column_names)\n",
    "    return data\n",
    "data = read_file(None, data_path)\n",
    "# no index is better, just leave the order as it is\n",
    "# data.set_index('passenger_count')\n"
   ]
  },
  {
   "cell_type": "code",
   "execution_count": 3,
   "metadata": {
    "ExecuteTime": {
     "end_time": "2020-01-23T18:49:00.819361Z",
     "start_time": "2020-01-23T18:48:41.027924Z"
    }
   },
   "outputs": [
    {
     "name": "stdout",
     "output_type": "stream",
     "text": [
      "size: 1173057927 with 8 columns\n"
     ]
    }
   ],
   "source": [
    "print(f\"size: {len(data)} with {len(data.columns)} columns\")"
   ]
  },
  {
   "cell_type": "code",
   "execution_count": 4,
   "metadata": {
    "ExecuteTime": {
     "end_time": "2020-01-23T18:49:00.835164Z",
     "start_time": "2020-01-23T18:49:00.820614Z"
    }
   },
   "outputs": [
    {
     "data": {
      "text/html": [
       "<div><strong>Dask DataFrame Structure:</strong></div>\n",
       "<div>\n",
       "<style scoped>\n",
       "    .dataframe tbody tr th:only-of-type {\n",
       "        vertical-align: middle;\n",
       "    }\n",
       "\n",
       "    .dataframe tbody tr th {\n",
       "        vertical-align: top;\n",
       "    }\n",
       "\n",
       "    .dataframe thead th {\n",
       "        text-align: right;\n",
       "    }\n",
       "</style>\n",
       "<table border=\"1\" class=\"dataframe\">\n",
       "  <thead>\n",
       "    <tr style=\"text-align: right;\">\n",
       "      <th></th>\n",
       "      <th>fare_amount</th>\n",
       "      <th>tip_amount</th>\n",
       "      <th>trip_distance</th>\n",
       "      <th>pickup_longitude</th>\n",
       "      <th>pickup_latitude</th>\n",
       "      <th>dropoff_longitude</th>\n",
       "      <th>dropoff_latitude</th>\n",
       "      <th>passenger_count</th>\n",
       "    </tr>\n",
       "    <tr>\n",
       "      <th>npartitions=118</th>\n",
       "      <th></th>\n",
       "      <th></th>\n",
       "      <th></th>\n",
       "      <th></th>\n",
       "      <th></th>\n",
       "      <th></th>\n",
       "      <th></th>\n",
       "      <th></th>\n",
       "    </tr>\n",
       "  </thead>\n",
       "  <tbody>\n",
       "    <tr>\n",
       "      <th>0</th>\n",
       "      <td>float32</td>\n",
       "      <td>float32</td>\n",
       "      <td>float32</td>\n",
       "      <td>float32</td>\n",
       "      <td>float32</td>\n",
       "      <td>float32</td>\n",
       "      <td>float32</td>\n",
       "      <td>int64</td>\n",
       "    </tr>\n",
       "    <tr>\n",
       "      <th>10000000</th>\n",
       "      <td>...</td>\n",
       "      <td>...</td>\n",
       "      <td>...</td>\n",
       "      <td>...</td>\n",
       "      <td>...</td>\n",
       "      <td>...</td>\n",
       "      <td>...</td>\n",
       "      <td>...</td>\n",
       "    </tr>\n",
       "    <tr>\n",
       "      <th>...</th>\n",
       "      <td>...</td>\n",
       "      <td>...</td>\n",
       "      <td>...</td>\n",
       "      <td>...</td>\n",
       "      <td>...</td>\n",
       "      <td>...</td>\n",
       "      <td>...</td>\n",
       "      <td>...</td>\n",
       "    </tr>\n",
       "    <tr>\n",
       "      <th>1170000000</th>\n",
       "      <td>...</td>\n",
       "      <td>...</td>\n",
       "      <td>...</td>\n",
       "      <td>...</td>\n",
       "      <td>...</td>\n",
       "      <td>...</td>\n",
       "      <td>...</td>\n",
       "      <td>...</td>\n",
       "    </tr>\n",
       "    <tr>\n",
       "      <th>1173057926</th>\n",
       "      <td>...</td>\n",
       "      <td>...</td>\n",
       "      <td>...</td>\n",
       "      <td>...</td>\n",
       "      <td>...</td>\n",
       "      <td>...</td>\n",
       "      <td>...</td>\n",
       "      <td>...</td>\n",
       "    </tr>\n",
       "  </tbody>\n",
       "</table>\n",
       "</div>\n",
       "<div>Dask Name: assign, 710 tasks</div>"
      ],
      "text/plain": [
       "Dask DataFrame Structure:\n",
       "                fare_amount tip_amount trip_distance pickup_longitude pickup_latitude dropoff_longitude dropoff_latitude passenger_count\n",
       "npartitions=118                                                                                                                         \n",
       "0                   float32    float32       float32          float32         float32           float32          float32           int64\n",
       "10000000                ...        ...           ...              ...             ...               ...              ...             ...\n",
       "...                     ...        ...           ...              ...             ...               ...              ...             ...\n",
       "1170000000              ...        ...           ...              ...             ...               ...              ...             ...\n",
       "1173057926              ...        ...           ...              ...             ...               ...              ...             ...\n",
       "Dask Name: assign, 710 tasks"
      ]
     },
     "execution_count": 4,
     "metadata": {},
     "output_type": "execute_result"
    }
   ],
   "source": [
    "data"
   ]
  },
  {
   "cell_type": "code",
   "execution_count": 5,
   "metadata": {
    "ExecuteTime": {
     "end_time": "2020-01-23T18:49:00.839040Z",
     "start_time": "2020-01-23T18:49:00.837478Z"
    }
   },
   "outputs": [],
   "source": [
    "# %debug"
   ]
  },
  {
   "cell_type": "code",
   "execution_count": 7,
   "metadata": {
    "ExecuteTime": {
     "end_time": "2020-01-23T19:05:13.859288Z",
     "start_time": "2020-01-23T18:58:40.279589Z"
    }
   },
   "outputs": [
    {
     "name": "stdout",
     "output_type": "stream",
     "text": [
      "Done benchmarks on filterd data\n"
     ]
    }
   ],
   "source": [
    "# benchmarks['read_file']= benchmark(read_file, df=data, data_path=data_path, repetitions=repetitions)\n",
    "# benchmarks['mean']= benchmark(mean, data, repetitions=repetitions)\n",
    "# benchmarks['standard deviation']= benchmark(standard_deviation, data, repetitions=repetitions)\n",
    "# benchmarks['mean of sum']= benchmark(mean_of_sum, data, repetitions=repetitions)\n",
    "# benchmarks['mean of product']= benchmark(mean_of_product, data, repetitions=repetitions)\n",
    "# benchmarks['mean of arithmetic operation']= benchmark(mean_of_complicated_arithmetic_operation, data, repetitions=repetitions)\n",
    "# benchmarks['value counts']= benchmark(value_counts, data, repetitions=repetitions)\n",
    "# benchmarks['groupby statistics']= benchmark(groupby_statistics, data, repetitions=repetitions)\n",
    "# # benchmarks['filter']= benchmark(filter_data, data, repetitions=repetitions)\n",
    "# print(f\"cleaned {gc.collect()} mb\")\n",
    "# benchmarks['join'] = benchmark(join, data, repetitions=repetitions, other=groupby_statistics(data))\n",
    "# print(f\"Done benchmarks on all data\")\n",
    "\n",
    "# # filtered\n",
    "# filterd = filter_data(data)\n",
    "# del data\n",
    "\n",
    "# print(f\"Prepare filtered data and deleted {gc.collect()} MB\")\n",
    "# benchmarks['filtered length']= benchmark(length, filterd, repetitions=repetitions)\n",
    "# benchmarks['filtered mean'] = benchmark(mean, filterd, repetitions=repetitions)\n",
    "# benchmarks['filtered standard deviation'] = benchmark(standard_deviation, filterd, repetitions=repetitions)\n",
    "benchmarks['filtered mean of sum columns'] = benchmark(mean_of_sum , filterd, repetitions=repetitions)\n",
    "benchmarks['filtered mean of product'] = benchmark(mean_of_product , filterd, repetitions=repetitions)\n",
    "benchmarks['filtered complicated arithmetic operation'] = benchmark(mean_of_complicated_arithmetic_operation, filterd, repetitions=repetitions)\n",
    "benchmarks['filtered value counts'] = benchmark(value_counts, filterd, repetitions=repetitions)\n",
    "benchmarks['filtered groupby statistics'] = benchmark(groupby_statistics, filterd, repetitions=repetitions)\n",
    "benchmarks['filtered join'] = benchmark(join, filterd, repetitions=repetitions, other=groupby_statistics(filterd))\n",
    "print(f\"Done benchmarks on filterd data\")\n"
   ]
  },
  {
   "cell_type": "code",
   "execution_count": 8,
   "metadata": {
    "ExecuteTime": {
     "end_time": "2020-01-23T19:05:29.215403Z",
     "start_time": "2020-01-23T19:05:29.073722Z"
    }
   },
   "outputs": [
    {
     "data": {
      "text/html": [
       "<div>\n",
       "<style scoped>\n",
       "    .dataframe tbody tr th:only-of-type {\n",
       "        vertical-align: middle;\n",
       "    }\n",
       "\n",
       "    .dataframe tbody tr th {\n",
       "        vertical-align: top;\n",
       "    }\n",
       "\n",
       "    .dataframe thead th {\n",
       "        text-align: right;\n",
       "    }\n",
       "</style>\n",
       "<table border=\"1\" class=\"dataframe\">\n",
       "  <thead>\n",
       "    <tr style=\"text-align: right;\">\n",
       "      <th></th>\n",
       "      <th>dask-vaex-hdf5</th>\n",
       "    </tr>\n",
       "  </thead>\n",
       "  <tbody>\n",
       "    <tr>\n",
       "      <th>read_file</th>\n",
       "      <td>0.013979</td>\n",
       "    </tr>\n",
       "    <tr>\n",
       "      <th>mean</th>\n",
       "      <td>18.139587</td>\n",
       "    </tr>\n",
       "    <tr>\n",
       "      <th>standard deviation</th>\n",
       "      <td>22.002922</td>\n",
       "    </tr>\n",
       "    <tr>\n",
       "      <th>mean of sum</th>\n",
       "      <td>19.942463</td>\n",
       "    </tr>\n",
       "    <tr>\n",
       "      <th>mean of product</th>\n",
       "      <td>19.711409</td>\n",
       "    </tr>\n",
       "    <tr>\n",
       "      <th>mean of arithmetic operation</th>\n",
       "      <td>37.855273</td>\n",
       "    </tr>\n",
       "    <tr>\n",
       "      <th>value counts</th>\n",
       "      <td>21.450876</td>\n",
       "    </tr>\n",
       "    <tr>\n",
       "      <th>groupby statistics</th>\n",
       "      <td>39.683780</td>\n",
       "    </tr>\n",
       "    <tr>\n",
       "      <th>join</th>\n",
       "      <td>28.438838</td>\n",
       "    </tr>\n",
       "    <tr>\n",
       "      <th>filtered length</th>\n",
       "      <td>44.254535</td>\n",
       "    </tr>\n",
       "    <tr>\n",
       "      <th>filtered mean</th>\n",
       "      <td>46.273638</td>\n",
       "    </tr>\n",
       "    <tr>\n",
       "      <th>filtered standard deviation</th>\n",
       "      <td>47.739374</td>\n",
       "    </tr>\n",
       "    <tr>\n",
       "      <th>filtered mean of sum columns</th>\n",
       "      <td>49.033288</td>\n",
       "    </tr>\n",
       "    <tr>\n",
       "      <th>filtered mean of product</th>\n",
       "      <td>47.070371</td>\n",
       "    </tr>\n",
       "    <tr>\n",
       "      <th>filtered complicated arithmetic operation</th>\n",
       "      <td>60.981033</td>\n",
       "    </tr>\n",
       "    <tr>\n",
       "      <th>filtered value counts</th>\n",
       "      <td>47.169167</td>\n",
       "    </tr>\n",
       "    <tr>\n",
       "      <th>filtered groupby statistics</th>\n",
       "      <td>65.581208</td>\n",
       "    </tr>\n",
       "    <tr>\n",
       "      <th>filtered join</th>\n",
       "      <td>55.925905</td>\n",
       "    </tr>\n",
       "  </tbody>\n",
       "</table>\n",
       "</div>"
      ],
      "text/plain": [
       "                                           dask-vaex-hdf5\n",
       "read_file                                        0.013979\n",
       "mean                                            18.139587\n",
       "standard deviation                              22.002922\n",
       "mean of sum                                     19.942463\n",
       "mean of product                                 19.711409\n",
       "mean of arithmetic operation                    37.855273\n",
       "value counts                                    21.450876\n",
       "groupby statistics                              39.683780\n",
       "join                                            28.438838\n",
       "filtered length                                 44.254535\n",
       "filtered mean                                   46.273638\n",
       "filtered standard deviation                     47.739374\n",
       "filtered mean of sum columns                    49.033288\n",
       "filtered mean of product                        47.070371\n",
       "filtered complicated arithmetic operation       60.981033\n",
       "filtered value counts                           47.169167\n",
       "filtered groupby statistics                     65.581208\n",
       "filtered join                                   55.925905"
      ]
     },
     "execution_count": 8,
     "metadata": {},
     "output_type": "execute_result"
    }
   ],
   "source": [
    "results = get_results(benchmarks, name)\n",
    "results.to_csv(results_path)\n",
    "# results.head()\n",
    "results"
   ]
  },
  {
   "cell_type": "code",
   "execution_count": 17,
   "metadata": {
    "ExecuteTime": {
     "end_time": "2020-01-23T15:23:20.646100Z",
     "start_time": "2020-01-23T15:23:19.900994Z"
    }
   },
   "outputs": [
    {
     "name": "stdout",
     "output_type": "stream",
     "text": [
      "\r\n",
      "The user-provided path ../results/dask_1b.csv does not exist.\r\n"
     ]
    }
   ],
   "source": [
    "!aws s3 cp  ../results/dask_1b.csv s3://vaex-sagemaker-demo/benchmarks/dask_1b_results.csv "
   ]
  },
  {
   "cell_type": "code",
   "execution_count": null,
   "metadata": {},
   "outputs": [],
   "source": []
  }
 ],
 "metadata": {
  "kernelspec": {
   "display_name": "Python 3",
   "language": "python",
   "name": "python3"
  },
  "language_info": {
   "codemirror_mode": {
    "name": "ipython",
    "version": 3
   },
   "file_extension": ".py",
   "mimetype": "text/x-python",
   "name": "python",
   "nbconvert_exporter": "python",
   "pygments_lexer": "ipython3",
   "version": "3.7.3"
  }
 },
 "nbformat": 4,
 "nbformat_minor": 4
}
